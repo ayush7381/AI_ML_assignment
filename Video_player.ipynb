{
  "nbformat": 4,
  "nbformat_minor": 0,
  "metadata": {
    "colab": {
      "provenance": [],
      "toc_visible": true,
      "authorship_tag": "ABX9TyMe9ocH73nMdaQtJGU86SPG",
      "include_colab_link": true
    },
    "kernelspec": {
      "name": "python3",
      "display_name": "Python 3"
    },
    "language_info": {
      "name": "python"
    }
  },
  "cells": [
    {
      "cell_type": "markdown",
      "metadata": {
        "id": "view-in-github",
        "colab_type": "text"
      },
      "source": [
        "<a href=\"https://colab.research.google.com/github/ayush7381/AI_ML_assignment/blob/main/Video_player.ipynb\" target=\"_parent\"><img src=\"https://colab.research.google.com/assets/colab-badge.svg\" alt=\"Open In Colab\"/></a>"
      ]
    },
    {
      "cell_type": "code",
      "execution_count": 1,
      "metadata": {
        "colab": {
          "base_uri": "https://localhost:8080/"
        },
        "id": "Q3vfw_m6R8Wl",
        "outputId": "6144a26f-f247-4c66-ed1b-eb867b2f0a90"
      },
      "outputs": [
        {
          "output_type": "stream",
          "name": "stdout",
          "text": [
            "Requirement already satisfied: opencv-python in /usr/local/lib/python3.10/dist-packages (4.8.0.76)\n",
            "Requirement already satisfied: numpy>=1.21.2 in /usr/local/lib/python3.10/dist-packages (from opencv-python) (1.23.5)\n"
          ]
        }
      ],
      "source": [
        "!pip install opencv-python"
      ]
    },
    {
      "cell_type": "code",
      "source": [
        "import cv2\n",
        "import numpy as np\n",
        "#read video file\n",
        "new_capture = cv2.VideoCapture('apnabana.mp4')\n",
        "\n",
        "#check if the file opened successfully\n",
        "if(new_capture.isOpened() == False):\n",
        "    print(\"Error for opening the video file\")\n",
        "#reading the video to complete\n",
        "while(new_capture.isOpened()):\n",
        "    ret,frame= new_capture.read()\n",
        "    if ret == True:\n",
        "        cv2.imshow('Frame', frame)\n",
        "        if cv2.waitKey(25) & 0xff == ord('q'):\n",
        "            break\n",
        "    else:\n",
        "        break\n",
        "#release when everuthing is completed\n",
        "new_capture.release()\n",
        "cv2.destroyAllWindows() #close all frames\n"
      ],
      "metadata": {
        "colab": {
          "base_uri": "https://localhost:8080/"
        },
        "id": "DItMI5tPSIO3",
        "outputId": "8333f60d-c468-4c98-8f4a-d43ea8e88d54"
      },
      "execution_count": 2,
      "outputs": [
        {
          "output_type": "stream",
          "name": "stdout",
          "text": [
            "Error for opening the video file\n"
          ]
        }
      ]
    },
    {
      "cell_type": "code",
      "source": [],
      "metadata": {
        "id": "CPqCpmHUSRWW"
      },
      "execution_count": null,
      "outputs": []
    },
    {
      "cell_type": "markdown",
      "source": [
        "# New Section"
      ],
      "metadata": {
        "id": "CfhmPeAaSW43"
      }
    }
  ]
}